{
 "cells": [
  {
   "cell_type": "code",
   "execution_count": 2,
   "metadata": {},
   "outputs": [
    {
     "name": "stdout",
     "output_type": "stream",
     "text": [
      "0.11.0\n"
     ]
    }
   ],
   "source": [
    "import pandas as pd\n",
    "import matplotlib.pyplot as plt\n",
    "import scipy.stats as stats\n",
    "import numpy as np\n",
    "import seaborn as sns\n",
    "print(sns.__version__)\n"
   ]
  },
  {
   "cell_type": "markdown",
   "metadata": {},
   "source": [
    "## Experiment setup\n",
    "Groups of student are randomly assigned to one of the meal and the attention span is measured. \n",
    "\n",
    "A group of 15 students were randomly assigned to each of three meal plans:\n",
    "no breakfast, light breakfast, and full breakfast. \n",
    "Their attention spans (in minutes) were recorded during a morning reading period\n",
    "\n",
    "3 population of 3 means with a common variance sigma and normally distributed. \n",
    "Sample size=15 (number of observation in sample i"
   ]
  },
  {
   "cell_type": "code",
   "execution_count": 3,
   "metadata": {},
   "outputs": [
    {
     "data": {
      "text/html": [
       "<div>\n",
       "<style scoped>\n",
       "    .dataframe tbody tr th:only-of-type {\n",
       "        vertical-align: middle;\n",
       "    }\n",
       "\n",
       "    .dataframe tbody tr th {\n",
       "        vertical-align: top;\n",
       "    }\n",
       "\n",
       "    .dataframe thead th {\n",
       "        text-align: right;\n",
       "    }\n",
       "</style>\n",
       "<table border=\"1\" class=\"dataframe\">\n",
       "  <thead>\n",
       "    <tr style=\"text-align: right;\">\n",
       "      <th></th>\n",
       "      <th>No breakfast</th>\n",
       "      <th>Light breakfast</th>\n",
       "      <th>Full breakfast</th>\n",
       "    </tr>\n",
       "    <tr>\n",
       "      <th>observation</th>\n",
       "      <th></th>\n",
       "      <th></th>\n",
       "      <th></th>\n",
       "    </tr>\n",
       "  </thead>\n",
       "  <tbody>\n",
       "    <tr>\n",
       "      <th>0</th>\n",
       "      <td>8</td>\n",
       "      <td>14</td>\n",
       "      <td>10</td>\n",
       "    </tr>\n",
       "    <tr>\n",
       "      <th>1</th>\n",
       "      <td>7</td>\n",
       "      <td>16</td>\n",
       "      <td>12</td>\n",
       "    </tr>\n",
       "    <tr>\n",
       "      <th>2</th>\n",
       "      <td>9</td>\n",
       "      <td>12</td>\n",
       "      <td>16</td>\n",
       "    </tr>\n",
       "    <tr>\n",
       "      <th>3</th>\n",
       "      <td>13</td>\n",
       "      <td>17</td>\n",
       "      <td>15</td>\n",
       "    </tr>\n",
       "    <tr>\n",
       "      <th>4</th>\n",
       "      <td>10</td>\n",
       "      <td>11</td>\n",
       "      <td>12</td>\n",
       "    </tr>\n",
       "  </tbody>\n",
       "</table>\n",
       "</div>"
      ],
      "text/plain": [
       "             No breakfast  Light breakfast  Full breakfast\n",
       "observation                                               \n",
       "0                       8               14              10\n",
       "1                       7               16              12\n",
       "2                       9               12              16\n",
       "3                      13               17              15\n",
       "4                      10               11              12"
      ]
     },
     "execution_count": 3,
     "metadata": {},
     "output_type": "execute_result"
    }
   ],
   "source": [
    "experiment = {'No breakfast' : [8,7,9,13,10],\n",
    "             'Light breakfast' : [14,16,12,17,11], \n",
    "             'Full breakfast' : [10,12,16,15,12]}\n",
    "\n",
    "exp_df = pd.DataFrame(experiment)\n",
    "exp_df.index.name = \"observation\"\n",
    "exp_df"
   ]
  },
  {
   "cell_type": "code",
   "execution_count": 4,
   "metadata": {},
   "outputs": [
    {
     "name": "stdout",
     "output_type": "stream",
     "text": [
      "\n",
      "\n"
     ]
    },
    {
     "data": {
      "text/html": [
       "<div>\n",
       "<style scoped>\n",
       "    .dataframe tbody tr th:only-of-type {\n",
       "        vertical-align: middle;\n",
       "    }\n",
       "\n",
       "    .dataframe tbody tr th {\n",
       "        vertical-align: top;\n",
       "    }\n",
       "\n",
       "    .dataframe thead th {\n",
       "        text-align: right;\n",
       "    }\n",
       "</style>\n",
       "<table border=\"1\" class=\"dataframe\">\n",
       "  <thead>\n",
       "    <tr style=\"text-align: right;\">\n",
       "      <th></th>\n",
       "      <th>Variable</th>\n",
       "      <th>N</th>\n",
       "      <th>Mean</th>\n",
       "      <th>SD</th>\n",
       "      <th>SE</th>\n",
       "      <th>95% Conf.</th>\n",
       "      <th>Interval</th>\n",
       "    </tr>\n",
       "  </thead>\n",
       "  <tbody>\n",
       "    <tr>\n",
       "      <th>0</th>\n",
       "      <td>No breakfast</td>\n",
       "      <td>5.0</td>\n",
       "      <td>9.4</td>\n",
       "      <td>2.3022</td>\n",
       "      <td>1.0296</td>\n",
       "      <td>6.5415</td>\n",
       "      <td>12.2585</td>\n",
       "    </tr>\n",
       "    <tr>\n",
       "      <th>1</th>\n",
       "      <td>Light breakfast</td>\n",
       "      <td>5.0</td>\n",
       "      <td>14.0</td>\n",
       "      <td>2.5495</td>\n",
       "      <td>1.1402</td>\n",
       "      <td>10.8344</td>\n",
       "      <td>17.1656</td>\n",
       "    </tr>\n",
       "    <tr>\n",
       "      <th>2</th>\n",
       "      <td>Full breakfast</td>\n",
       "      <td>5.0</td>\n",
       "      <td>13.0</td>\n",
       "      <td>2.4495</td>\n",
       "      <td>1.0954</td>\n",
       "      <td>9.9586</td>\n",
       "      <td>16.0414</td>\n",
       "    </tr>\n",
       "  </tbody>\n",
       "</table>\n",
       "</div>"
      ],
      "text/plain": [
       "          Variable    N  Mean      SD      SE  95% Conf.  Interval\n",
       "0     No breakfast  5.0   9.4  2.3022  1.0296     6.5415   12.2585\n",
       "1  Light breakfast  5.0  14.0  2.5495  1.1402    10.8344   17.1656\n",
       "2   Full breakfast  5.0  13.0  2.4495  1.0954     9.9586   16.0414"
      ]
     },
     "execution_count": 4,
     "metadata": {},
     "output_type": "execute_result"
    }
   ],
   "source": [
    "import researchpy as rp\n",
    "rp.summary_cont(exp_df)"
   ]
  },
  {
   "cell_type": "code",
   "execution_count": 5,
   "metadata": {},
   "outputs": [
    {
     "data": {
      "text/plain": [
       "<AxesSubplot:ylabel='Frequency'>"
      ]
     },
     "execution_count": 5,
     "metadata": {},
     "output_type": "execute_result"
    },
    {
     "data": {
      "image/png": "[encoded data removed]",
      "text/plain": [
       "<Figure size 432x288 with 1 Axes>"
      ]
     },
     "metadata": {
      "needs_background": "light"
     },
     "output_type": "display_data"
    }
   ],
   "source": [
    "# normality test histogram\n",
    "exp_df.plot.hist()"
   ]
  },
  {
   "cell_type": "code",
   "execution_count": 6,
   "metadata": {},
   "outputs": [
    {
     "data": {
      "text/html": [
       "<div>\n",
       "<style scoped>\n",
       "    .dataframe tbody tr th:only-of-type {\n",
       "        vertical-align: middle;\n",
       "    }\n",
       "\n",
       "    .dataframe tbody tr th {\n",
       "        vertical-align: top;\n",
       "    }\n",
       "\n",
       "    .dataframe thead th {\n",
       "        text-align: right;\n",
       "    }\n",
       "</style>\n",
       "<table border=\"1\" class=\"dataframe\">\n",
       "  <thead>\n",
       "    <tr style=\"text-align: right;\">\n",
       "      <th></th>\n",
       "      <th>observation</th>\n",
       "      <th>treatment</th>\n",
       "      <th>span</th>\n",
       "    </tr>\n",
       "  </thead>\n",
       "  <tbody>\n",
       "    <tr>\n",
       "      <th>0</th>\n",
       "      <td>0</td>\n",
       "      <td>No breakfast</td>\n",
       "      <td>8</td>\n",
       "    </tr>\n",
       "    <tr>\n",
       "      <th>1</th>\n",
       "      <td>0</td>\n",
       "      <td>Light breakfast</td>\n",
       "      <td>14</td>\n",
       "    </tr>\n",
       "    <tr>\n",
       "      <th>2</th>\n",
       "      <td>0</td>\n",
       "      <td>Full breakfast</td>\n",
       "      <td>10</td>\n",
       "    </tr>\n",
       "    <tr>\n",
       "      <th>3</th>\n",
       "      <td>1</td>\n",
       "      <td>No breakfast</td>\n",
       "      <td>7</td>\n",
       "    </tr>\n",
       "    <tr>\n",
       "      <th>4</th>\n",
       "      <td>1</td>\n",
       "      <td>Light breakfast</td>\n",
       "      <td>16</td>\n",
       "    </tr>\n",
       "    <tr>\n",
       "      <th>5</th>\n",
       "      <td>1</td>\n",
       "      <td>Full breakfast</td>\n",
       "      <td>12</td>\n",
       "    </tr>\n",
       "    <tr>\n",
       "      <th>6</th>\n",
       "      <td>2</td>\n",
       "      <td>No breakfast</td>\n",
       "      <td>9</td>\n",
       "    </tr>\n",
       "    <tr>\n",
       "      <th>7</th>\n",
       "      <td>2</td>\n",
       "      <td>Light breakfast</td>\n",
       "      <td>12</td>\n",
       "    </tr>\n",
       "    <tr>\n",
       "      <th>8</th>\n",
       "      <td>2</td>\n",
       "      <td>Full breakfast</td>\n",
       "      <td>16</td>\n",
       "    </tr>\n",
       "    <tr>\n",
       "      <th>9</th>\n",
       "      <td>3</td>\n",
       "      <td>No breakfast</td>\n",
       "      <td>13</td>\n",
       "    </tr>\n",
       "    <tr>\n",
       "      <th>10</th>\n",
       "      <td>3</td>\n",
       "      <td>Light breakfast</td>\n",
       "      <td>17</td>\n",
       "    </tr>\n",
       "    <tr>\n",
       "      <th>11</th>\n",
       "      <td>3</td>\n",
       "      <td>Full breakfast</td>\n",
       "      <td>15</td>\n",
       "    </tr>\n",
       "    <tr>\n",
       "      <th>12</th>\n",
       "      <td>4</td>\n",
       "      <td>No breakfast</td>\n",
       "      <td>10</td>\n",
       "    </tr>\n",
       "    <tr>\n",
       "      <th>13</th>\n",
       "      <td>4</td>\n",
       "      <td>Light breakfast</td>\n",
       "      <td>11</td>\n",
       "    </tr>\n",
       "    <tr>\n",
       "      <th>14</th>\n",
       "      <td>4</td>\n",
       "      <td>Full breakfast</td>\n",
       "      <td>12</td>\n",
       "    </tr>\n",
       "  </tbody>\n",
       "</table>\n",
       "</div>"
      ],
      "text/plain": [
       "    observation        treatment  span\n",
       "0             0     No breakfast     8\n",
       "1             0  Light breakfast    14\n",
       "2             0   Full breakfast    10\n",
       "3             1     No breakfast     7\n",
       "4             1  Light breakfast    16\n",
       "5             1   Full breakfast    12\n",
       "6             2     No breakfast     9\n",
       "7             2  Light breakfast    12\n",
       "8             2   Full breakfast    16\n",
       "9             3     No breakfast    13\n",
       "10            3  Light breakfast    17\n",
       "11            3   Full breakfast    15\n",
       "12            4     No breakfast    10\n",
       "13            4  Light breakfast    11\n",
       "14            4   Full breakfast    12"
      ]
     },
     "metadata": {},
     "output_type": "display_data"
    }
   ],
   "source": [
    "# Reform the dataframe \n",
    "stack_df = exp_df.stack().reset_index()\n",
    "stack_df = stack_df.rename(columns={'level_0': 'id',\n",
    "                                    'level_1': 'treatment',\n",
    "                                    0:'span'})\n",
    "display(stack_df)\n",
    "# show dist\n",
    "# sns.displot(stack_df, x='span', hue='treatment', kind=\"kde\", fill=True)"
   ]
  },
  {
   "cell_type": "code",
   "execution_count": 7,
   "metadata": {},
   "outputs": [
    {
     "data": {
      "text/plain": [
       "Text(0.5, 1.0, 'Boxplot')"
      ]
     },
     "execution_count": 7,
     "metadata": {},
     "output_type": "execute_result"
    },
    {
     "data": {
      "image/png": "[encoded data removed]",
      "text/plain": [
       "<Figure size 432x288 with 1 Axes>"
      ]
     },
     "metadata": {
      "needs_background": "light"
     },
     "output_type": "display_data"
    }
   ],
   "source": [
    "ax = sns.boxplot(y=stack_df[\"span\"], x=stack_df[\"treatment\"])\n",
    "ax.set_title('Boxplot')"
   ]
  },
  {
   "cell_type": "markdown",
   "metadata": {},
   "source": [
    "You could use the library below to compute the confidence interval but the best estimate of the common variance uses all information from the entire set of measurements. This is why you should ALWAYS use the POOLED Variance:\n",
    "variance = s^2 = MSE with df =n - k and Pooled STD = np.sqrt(n) \n",
    "The technics below are faster than the one below the analysis of variance table"
   ]
  },
  {
   "cell_type": "code",
   "execution_count": 8,
   "metadata": {},
   "outputs": [
    {
     "name": "stdout",
     "output_type": "stream",
     "text": [
      "sample_standard_error s^2= 1.0295630140987 or s/np.sqrt(n_t) 0.920869154657707 2.0591260281974\n",
      "sample_standard_error s^2= 1.1401754250991378 or s/np.sqrt(n_t) 1.019803902718557 2.280350850198276\n",
      "sample_standard_error s^2= 1.0954451150103321 or s/np.sqrt(n_t) 0.9797958971132711 2.1908902300206643\n"
     ]
    },
    {
     "data": {
      "text/html": [
       "<div>\n",
       "<style scoped>\n",
       "    .dataframe tbody tr th:only-of-type {\n",
       "        vertical-align: middle;\n",
       "    }\n",
       "\n",
       "    .dataframe tbody tr th {\n",
       "        vertical-align: top;\n",
       "    }\n",
       "\n",
       "    .dataframe thead th {\n",
       "        text-align: right;\n",
       "    }\n",
       "</style>\n",
       "<table border=\"1\" class=\"dataframe\">\n",
       "  <thead>\n",
       "    <tr style=\"text-align: right;\">\n",
       "      <th></th>\n",
       "      <th>treatment</th>\n",
       "      <th>mean</th>\n",
       "      <th>std error</th>\n",
       "      <th>CI</th>\n",
       "    </tr>\n",
       "  </thead>\n",
       "  <tbody>\n",
       "    <tr>\n",
       "      <th>0</th>\n",
       "      <td>No breakfast</td>\n",
       "      <td>9.4</td>\n",
       "      <td>1.02956</td>\n",
       "      <td>(6.54, 12.26)</td>\n",
       "    </tr>\n",
       "    <tr>\n",
       "      <th>2</th>\n",
       "      <td>Full breakfast</td>\n",
       "      <td>13</td>\n",
       "      <td>1.09545</td>\n",
       "      <td>(9.96, 16.04)</td>\n",
       "    </tr>\n",
       "    <tr>\n",
       "      <th>1</th>\n",
       "      <td>Light breakfast</td>\n",
       "      <td>14</td>\n",
       "      <td>1.14018</td>\n",
       "      <td>(10.83, 17.17)</td>\n",
       "    </tr>\n",
       "  </tbody>\n",
       "</table>\n",
       "</div>"
      ],
      "text/plain": [
       "         treatment mean std error              CI\n",
       "0     No breakfast  9.4   1.02956   (6.54, 12.26)\n",
       "2   Full breakfast   13   1.09545   (9.96, 16.04)\n",
       "1  Light breakfast   14   1.14018  (10.83, 17.17)"
      ]
     },
     "metadata": {},
     "output_type": "display_data"
    }
   ],
   "source": [
    "# THESE METHOD IS FOR SAMPLE DATA (NO SAMPLE MEAN)\n",
    "import numpy as np\n",
    "# to check\n",
    "# Confidence interval\n",
    "confidence_level = 0.95\n",
    "# If juste samples (not mean) the dof is \n",
    "mean_list, std_list, ci_list = [], [], []\n",
    "for col_name  in exp_df:\n",
    "    col_values = exp_df[col_name].values\n",
    "    sample_size = len(col_values)\n",
    "    degrees_freedom = sample_size - 1\n",
    "    sample_mean = np.mean(col_values)\n",
    "    # Standard error of the mean (SEM) = sigma / sqrt(n)\n",
    "    sample_standard_error = stats.sem(col_values)\n",
    "    print('sample_standard_error s^2=', sample_standard_error,\n",
    "         'or s/np.sqrt(n_t)', np.std(col_values)/np.sqrt(sample_size),  np.std(col_values))\n",
    "    confidence_interval = stats.t.interval(alpha=confidence_level,\n",
    "                                           df=degrees_freedom,\n",
    "                                           loc=sample_mean,\n",
    "                                           scale=sample_standard_error)\n",
    "    std_list.append(sample_standard_error)\n",
    "    ci_list.append(confidence_interval)\n",
    "    mean_list.append(sample_mean)\n",
    "    \n",
    "CI_df = pd.DataFrame([exp_df.columns.values, mean_list, std_list,  ci_list]).transpose()\n",
    "CI_df.columns = ['treatment',\n",
    "                 'mean',\n",
    "                 'std error',\n",
    "                 'CI']\n",
    "CI_df.loc[:,'CI'] =  CI_df.loc[:,'CI'].map(lambda x: (x[0].round(2), x[1].round(2)))\n",
    "CI_df = CI_df.sort_values(by=['mean'])\n",
    "display(CI_df)\n"
   ]
  },
  {
   "cell_type": "code",
   "execution_count": 9,
   "metadata": {},
   "outputs": [
    {
     "data": {
      "image/png": "[encoded data removed]",
      "text/plain": [
       "<Figure size 471.125x360 with 1 Axes>"
      ]
     },
     "metadata": {
      "needs_background": "light"
     },
     "output_type": "display_data"
    }
   ],
   "source": [
    "graph = sns.displot(stack_df, x='span', hue='treatment', kind=\"kde\", fill=True)\n",
    "\n",
    "for CI in CI_df['CI'].values:\n",
    "    plt.axvline(CI[0],  linestyle='--')\n",
    "    plt.axvline(CI[1],  linestyle='--')\n",
    "plt.show()"
   ]
  },
  {
   "cell_type": "code",
   "execution_count": 10,
   "metadata": {},
   "outputs": [
    {
     "data": {
      "image/png": "[encoded data removed]",
      "text/plain": [
       "<Figure size 432x288 with 1 Axes>"
      ]
     },
     "metadata": {
      "needs_background": "light"
     },
     "output_type": "display_data"
    },
    {
     "data": {
      "image/png": "[encoded data removed]",
      "text/plain": [
       "<Figure size 432x288 with 1 Axes>"
      ]
     },
     "metadata": {
      "needs_background": "light"
     },
     "output_type": "display_data"
    },
    {
     "data": {
      "image/png": "[encoded data removed]",
      "text/plain": [
       "<Figure size 432x288 with 1 Axes>"
      ]
     },
     "metadata": {
      "needs_background": "light"
     },
     "output_type": "display_data"
    }
   ],
   "source": [
    "# Normality test quantile-quantile plot.\n",
    "# Show the theoritical expectation of \n",
    "# normal distribution quantile vs present distribution quantile.\n",
    "\n",
    "from statsmodels.graphics.gofplots import qqplot\n",
    "for treat in exp_df.columns:\n",
    "    qqplot(exp_df[treat].values, line='s')\n",
    "    plt.title(f'{treat} q-q plot')\n",
    "    plt.show()\n",
    "\n"
   ]
  },
  {
   "cell_type": "code",
   "execution_count": 11,
   "metadata": {},
   "outputs": [
    {
     "name": "stdout",
     "output_type": "stream",
     "text": [
      "No breakfast\n",
      "Statistics=0.943, p=0.685\n",
      "Light breakfast\n",
      "Statistics=0.944, p=0.692\n",
      "Full breakfast\n",
      "Statistics=0.925, p=0.563\n"
     ]
    }
   ],
   "source": [
    "# Test hypothesis where null hypothesis assume that the sample are taken from Gaussian\n",
    "# distribution.\n",
    "# p <= alpha: reject H0, not normal.\n",
    "# p > alpha: fail to reject H0, normal.\n",
    "# Shapiro-Wilk test\n",
    "from scipy.stats import shapiro\n",
    "for col, val in exp_df.iteritems():\n",
    "    print(col)\n",
    "    stat, p = shapiro(val)\n",
    "    print('Statistics=%.3f, p=%.3f' % (stat, p))\n",
    "# if p > 0.05 we fail to reject null hypoteshsi -> Gaussian\n",
    "\n",
    "# Extension, see D’Agostino’s K^2 Test or Anderson-Darling Test"
   ]
  },
  {
   "cell_type": "code",
   "execution_count": 12,
   "metadata": {},
   "outputs": [
    {
     "data": {
      "text/plain": [
       "LeveneResult(statistic=0.08571428571428566, pvalue=0.9184132649741406)"
      ]
     },
     "execution_count": 12,
     "metadata": {},
     "output_type": "execute_result"
    }
   ],
   "source": [
    "# Levene test for homogeneity of variance\n",
    "stats.levene(*[exp_df[treat] for treat in exp_df.columns])\n",
    "# if p-value >0.05 non-statistically significant difference in their varability"
   ]
  },
  {
   "cell_type": "code",
   "execution_count": 13,
   "metadata": {},
   "outputs": [
    {
     "name": "stdout",
     "output_type": "stream",
     "text": [
      "F= 4.93258426966292, p=0.02732564994828438\n"
     ]
    }
   ],
   "source": [
    "# ANOVA one way\n",
    "import scipy.stats as stats\n",
    "\n",
    "F, p = stats.f_oneway(*[exp_df[treat] for treat in exp_df.columns])\n",
    "\n",
    "\n",
    "print(f'F= {F}, p={p}')\n",
    "# Interpretation\n",
    "# F_stat = 4.9 to compare with critical value of test statistic F_alpha\n",
    "# p-value = 0.027 < 0.05 we can say at 95% of confidence that\n",
    "# breakfast load has an effect on attention span. \n"
   ]
  },
  {
   "cell_type": "code",
   "execution_count": 19,
   "metadata": {},
   "outputs": [
    {
     "name": "stdout",
     "output_type": "stream",
     "text": [
      "SST 58.5333333333333 dof 2 MST 29.26666666666665\n",
      "SSE 71.19999999999982 dof 12 MSE 5.9333333333333185\n",
      "TSS 129.73333333333312 dof 14 F 4.932584269662931\n",
      "p value 0.027325649948284212\n",
      "eta squared 0.4511819116135668 omega_sqaured 58.44586404586401\n"
     ]
    }
   ],
   "source": [
    "# ANOVA the hard way\n",
    "# n1 = n2 = n3 \n",
    "k = len(exp_df.iloc[0]) # Number of columns\n",
    "list_n = exp_df.count().values\n",
    "n = np.sum(exp_df.count().values) # Total number of observations\n",
    "\n",
    "# sum all value from all groups and divide it by sum of observation from all (the three) samples\n",
    "CM = (exp_df.sum().sum())**2 / n \n",
    "# print('CM', CM)\n",
    "# total SS \n",
    "TSS = (exp_df**2).sum().sum() - CM\n",
    "dof_tss = n - 1\n",
    "\n",
    "# SST between\n",
    "SST = ((exp_df.sum()**2).values / list_n).sum() - CM\n",
    "dof_sst = k - 1\n",
    "MST = SST / dof_sst \n",
    "# SSE within\n",
    "SSE = TSS - SST\n",
    "dof_mse = n - k\n",
    "MSE = SSE / dof_mse\n",
    "\n",
    "# Test statistic\n",
    "F = MST/ MSE\n",
    "# p-value\n",
    "p = stats.f.sf(F, dof_sst, dof_mse)\n",
    "\n",
    "# Eta \n",
    "et_sq = SST / TSS\n",
    "# Omega squared \n",
    "om_sq = SST - (dof_sst * MSE) / (TSS + MSE)\n",
    "\n",
    "print('SST', SST, 'dof', dof_sst,'MST', MST)\n",
    "print('SSE', SSE, 'dof', dof_mse,'MSE', MSE)\n",
    "print('TSS', TSS, 'dof', dof_tss, 'F', F)\n",
    "print('p value', p)\n",
    "print('eta squared', et_sq, 'omega_sqaured', om_sq)\n"
   ]
  },
  {
   "cell_type": "code",
   "execution_count": 20,
   "metadata": {},
   "outputs": [
    {
     "data": {
      "text/plain": [
       "3.8852938346523933"
      ]
     },
     "execution_count": 20,
     "metadata": {},
     "output_type": "execute_result"
    }
   ],
   "source": [
    "alpha = 0.05\n",
    "F_alpha = stats.f.ppf(q=1-alpha, dfn=dof_sst, dfd=dof_mse)\n",
    "F_alpha"
   ]
  },
  {
   "cell_type": "code",
   "execution_count": 21,
   "metadata": {},
   "outputs": [
    {
     "name": "stdout",
     "output_type": "stream",
     "text": [
      "              sum_sq    df         F    PR(>F)\n",
      "treatment  58.533333   2.0  4.932584  0.027326\n",
      "Residual   71.200000  12.0       NaN       NaN\n",
      "et_sq 0.45118191161356613\n"
     ]
    }
   ],
   "source": [
    "# CHECK THE RESULTS of DF in analys variance table.\n",
    "# F stat and pvalue from statsmodel\n",
    "import statsmodels.api as sm\n",
    "from statsmodels.formula.api import ols\n",
    "\n",
    "# Reform the dataframe \n",
    "stack_df = exp_df.stack().reset_index()\n",
    "stack_df = stack_df.rename(columns={'level_0': 'id',\n",
    "                                    'level_1': 'treatment',\n",
    "                                    0:'span'})\n",
    "# print(exp_df_2)\n",
    "\n",
    "mod = ols('span ~ treatment', data=stack_df).fit()\n",
    "aov_table = sm.stats.anova_lm(mod, typ=2)\n",
    "print(aov_table)\n",
    "\n",
    "# et_sq = SST / TSS\n",
    "et_sq = aov_table['sum_sq'][0]/(aov_table['sum_sq'][0]+aov_table['sum_sq'][1])\n",
    "print('et_sq', et_sq)"
   ]
  },
  {
   "cell_type": "code",
   "execution_count": 22,
   "metadata": {},
   "outputs": [
    {
     "name": "stdout",
     "output_type": "stream",
     "text": [
      "CI for no breakfast: 7.026323108199717 11.773676891800283\n",
      "CI light VS full: -2.3568860530755735 4.3568860530755735\n"
     ]
    }
   ],
   "source": [
    "# confidence interval for the difference of one means\n",
    "mean0 = exp_df.mean()[0]\n",
    "var = MSE\n",
    "s = np.sqrt(var)\n",
    "# from t distribution at 95% LOC and df = n-k = 15-3 = 12\n",
    "t_alpha = 2.179\n",
    "CI = t_alpha * s * np.sqrt(1/5)\n",
    "print('CI for no breakfast:',  mean0 - CI, mean0 + CI)\n",
    "\n",
    "# confidence interval for the difference of two means\n",
    "mean1 = exp_df.mean()[1]\n",
    "mean2 = exp_df.mean()[2]\n",
    "var = MSE\n",
    "diff_mean = mean1-mean2\n",
    "# from t distribution at 95% LOC and df = n-k = 15-3 = 12\n",
    "t_alpha = 2.179\n",
    "CI = t_alpha * s *  np.sqrt((1/5) + (1/5))\n",
    "print('CI light VS full:',  diff_mean - CI, diff_mean + CI)"
   ]
  },
  {
   "cell_type": "code",
   "execution_count": 23,
   "metadata": {},
   "outputs": [
    {
     "name": "stdout",
     "output_type": "stream",
     "text": [
      "        Multiple Comparison of Means - Tukey HSD, FWER=0.05         \n",
      "====================================================================\n",
      "     group1          group2     meandiff p-adj  lower  upper  reject\n",
      "--------------------------------------------------------------------\n",
      " Full breakfast Light breakfast      1.0 0.7856 -3.108  5.108  False\n",
      " Full breakfast    No breakfast     -3.6 0.0885 -7.708  0.508  False\n",
      "Light breakfast    No breakfast     -4.6 0.0283 -8.708 -0.492   True\n",
      "--------------------------------------------------------------------\n"
     ]
    }
   ],
   "source": [
    "# Tukey multi comparison method\n",
    "from statsmodels.stats.multicomp import (pairwise_tukeyhsd,\n",
    "                                         MultiComparison)\n",
    "\n",
    "# Set up the data for comparison (creates a specialised object)\n",
    "MultiComp = MultiComparison(stack_df['span'],\n",
    "                            stack_df['treatment'])\n",
    "\n",
    "# Show all pair-wise comparisons:\n",
    "\n",
    "# Print the comparisons\n",
    "\n",
    "print(MultiComp.tukeyhsd().summary())"
   ]
  },
  {
   "cell_type": "code",
   "execution_count": 24,
   "metadata": {},
   "outputs": [],
   "source": [
    "# Confidence intervals"
   ]
  },
  {
   "cell_type": "code",
   "execution_count": 29,
   "metadata": {},
   "outputs": [
    {
     "data": {
      "image/png": "[encoded data removed]",
      "text/plain": [
       "<Figure size 432x288 with 1 Axes>"
      ]
     },
     "metadata": {
      "needs_background": "light"
     },
     "output_type": "display_data"
    },
    {
     "data": {
      "image/png": "[encoded data removed]",
      "text/plain": [
       "<Figure size 432x288 with 1 Axes>"
      ]
     },
     "metadata": {
      "needs_background": "light"
     },
     "output_type": "display_data"
    }
   ],
   "source": [
    "import math\n",
    "import numpy as np\n",
    "\n",
    "mu = 0\n",
    "variance = 300\n",
    "sigma = math.sqrt(variance)\n",
    "x = np.linspace(mu - 3*sigma*3, mu + 3*sigma*3, 100)\n",
    "plt.plot(x, stats.norm.pdf(x, mu, sigma), color='blue', label='full breakfast')\n",
    "plt.axvline(mu, color='blue')\n",
    "\n",
    "mu2 = mu+8\n",
    "plt.plot(x, stats.norm.pdf(x, mu2, sigma), color='orange', label='light breakfast')\n",
    "plt.axvline(mu2, color='orange')\n",
    "\n",
    "mu3 = mu+16\n",
    "plt.plot(x, stats.norm.pdf(x, mu3, sigma), color='green', label='no breakfast')\n",
    "plt.axvline(mu3, color='green')\n",
    "plt.title('Same mean but the variability within the groups make the difference of the mean difficult to see')\n",
    "plt.legend()\n",
    "plt.show()\n",
    "\n",
    "\n",
    "mu = 0\n",
    "variance = 2\n",
    "sigma = math.sqrt(variance)\n",
    "x = np.linspace(mu - 4*sigma*3, mu + 6*sigma*3, 100)\n",
    "plt.plot(x, stats.norm.pdf(x, mu, sigma), color='blue', label='full breakfast')\n",
    "plt.axvline(mu, color='blue')\n",
    "\n",
    "mu2 = mu+8\n",
    "plt.plot(x, stats.norm.pdf(x, mu2, sigma), color='orange', label='light breakfast')\n",
    "plt.axvline(mu2, color='orange')\n",
    "plt.title('Same mean with \"small\" variability between groups')\n",
    "\n",
    "mu3 = mu+16\n",
    "plt.plot(x, stats.norm.pdf(x, mu3, sigma), color='green', label='no breakfast')\n",
    "plt.axvline(mu3, color='green')\n",
    "plt.legend()\n",
    "plt.show()\n"
   ]
  },
  {
   "cell_type": "code",
   "execution_count": null,
   "metadata": {},
   "outputs": [],
   "source": []
  }
 ],
 "metadata": {
  "kernelspec": {
   "display_name": "Python [conda env:py37] *",
   "language": "python",
   "name": "conda-env-py37-py"
  },
  "language_info": {
   "codemirror_mode": {
    "name": "ipython",
    "version": 3
   },
   "file_extension": ".py",
   "mimetype": "text/x-python",
   "name": "python",
   "nbconvert_exporter": "python",
   "pygments_lexer": "ipython3",
   "version": "3.8.5"
  }
 },
 "nbformat": 4,
 "nbformat_minor": 4
}
